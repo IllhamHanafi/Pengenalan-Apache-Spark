{
 "cells": [
  {
   "cell_type": "markdown",
   "metadata": {},
   "source": [
    "# Initialization"
   ]
  },
  {
   "cell_type": "code",
   "execution_count": 2,
   "metadata": {},
   "outputs": [],
   "source": [
    "# Import findspark to read SPARK_HOME and HADOOP_HOME\n",
    "\n",
    "import findspark\n",
    "findspark.init()"
   ]
  },
  {
   "cell_type": "code",
   "execution_count": 3,
   "metadata": {},
   "outputs": [],
   "source": [
    "# Import required library\n",
    "\n",
    "from pyspark.sql import SparkSession\n",
    "\n",
    "# Create Spark Session\n",
    "spark = SparkSession \\\n",
    "    .builder \\\n",
    "    .appName(\"Python Spark SQL basic example\") \\\n",
    "    .getOrCreate()"
   ]
  },
  {
   "cell_type": "code",
   "execution_count": 4,
   "metadata": {},
   "outputs": [
    {
     "name": "stdout",
     "output_type": "stream",
     "text": [
      "<pyspark.sql.session.SparkSession object at 0x000001E369817B70>\n"
     ]
    }
   ],
   "source": [
    "# Print Spark object ID\n",
    "\n",
    "print(spark)"
   ]
  },
  {
   "cell_type": "code",
   "execution_count": 46,
   "metadata": {},
   "outputs": [],
   "source": [
    "# Import the CSV file\n",
    "df = spark.read.csv(\"D://5115100117//Big Data//Pengenalan Apache Spark//Case_Data_from_San_Francisco_311__SF311.csv\", header=True, inferSchema=True)"
   ]
  },
  {
   "cell_type": "code",
   "execution_count": 47,
   "metadata": {},
   "outputs": [
    {
     "name": "stdout",
     "output_type": "stream",
     "text": [
      "+------+--------------------+--------------------+--------------------+------+------------+--------------------+--------------------+--------------------+--------------------+--------------------+-------------------+--------------------+--------------------+--------+---------+\n",
      "|CaseID|              Opened|              Closed|             Updated|Status|Status Notes|  Responsible Agency|            Category|        Request Type|     Request Details|             Address|Supervisor District|        Neighborhood|               Point|  Source|Media URL|\n",
      "+------+--------------------+--------------------+--------------------+------+------------+--------------------+--------------------+--------------------+--------------------+--------------------+-------------------+--------------------+--------------------+--------+---------+\n",
      "|322571|11/30/2008 11:53:...|12/01/2008 03:19:...|12/01/2008 03:19:...|Closed|        null|PUC - Electric/Po...|    General Requests|puc - electric - ...|puc - electric - ...|Intersection of 2...|                  9|             Mission|(37.7571008516766...|Voice In|     null|\n",
      "|322568|11/30/2008 11:13:...|07/21/2009 04:24:...|07/21/2009 04:24:...|Closed|        null|       DPW Ops Queue|    Illegal Postings|Illegal Postings ...|Posting_Too_Large...|Intersection of B...|                  3|            Nob Hill|(37.7884895281133...|Voice In|     null|\n",
      "|322567|11/30/2008 11:07:...|12/27/2008 06:07:...|12/27/2008 06:07:...|Closed|        null|       DPW Ops Queue|    Illegal Postings|Illegal Postings ...|Affixed_Improperl...|Intersection of E...|                  2|    Western Addition|(37.7850837365507...|Voice In|     null|\n",
      "|322566|11/30/2008 10:56:...|07/21/2009 04:24:...|07/21/2009 04:24:...|Closed|        null|       DPW Ops Queue|Street and Sidewa...|   Sidewalk_Cleaning|             Garbage|1566 HYDE ST, SAN...|                  3|            Nob Hill|(37.795328529, -1...|Voice In|     null|\n",
      "|322565|11/30/2008 10:46:...|12/13/2008 10:50:...|12/13/2008 10:50:...|Closed|        null|RPD Park Service ...|Rec and Park Requ...|Park - Structural...|               Other|GGP Panhandle, SA...|                  5|      Haight Ashbury|(37.772204762, -1...|Voice In|     null|\n",
      "|322564|11/30/2008 10:43:...|12/01/2008 04:07:...|12/01/2008 04:07:...|Closed|        null|       DPW Ops Queue|Graffiti Public P...|Offensive Graffit...|Other_enter_addit...|   1 NOB HILL CIR...|                  3|            Nob Hill|(37.79140462, -12...|Voice In|     null|\n",
      "|322560|11/30/2008 10:24:...|07/21/2009 04:24:...|07/21/2009 04:24:...|Closed|        null|       DPW Ops Queue|Street and Sidewa...|     Illegal_Dumping|             Garbage|Intersection of T...|                  6|Downtown/Civic Ce...|(37.7832142923006...|Voice In|     null|\n",
      "|322559|11/30/2008 10:20:...|12/01/2008 06:07:...|12/01/2008 06:07:...|Closed|        null|       DPW Ops Queue|Street and Sidewa...|     Illegal_Dumping|            Mattress|1601 SACRAMENTO S...|                  3|            Nob Hill|(37.791643509125,...|Voice In|     null|\n",
      "|322558|11/30/2008 10:04:...|11/30/2008 10:18:...|11/30/2008 10:18:...|Closed|        null|311 Service Reque...|311 External Request|    Damaged_Property|                null|Intersection of C...|                  5|      Haight Ashbury|(37.765800070469,...|Voice In|     null|\n",
      "|322556|11/30/2008 09:34:...|12/09/2008 08:07:...|12/09/2008 08:07:...|Closed|        null|       DPW Ops Queue|Street and Sidewa...|   Sidewalk_Cleaning|Human_waste_or_urine|Intersection of 2...|                  9|             Mission|(37.7509362479361...|Voice In|     null|\n",
      "|322553|11/30/2008 08:59:...|12/08/2008 04:52:...|12/08/2008 04:52:...|Closed|        null|       PUC Sewer Ops|        Sewer Issues|      Sewage_Back_Up|Out_of_manhole_cover|  10 UNITED NATIO...|                  6|Downtown/Civic Ce...|(37.780023981694,...|Voice In|     null|\n",
      "|322551|11/30/2008 08:52:...|12/02/2008 10:21:...|12/02/2008 10:21:...|Closed|        null|311 Supervisor Queue|    General Requests|dpw - bsm - reque...|dpw - bsm - reque...|2701 MISSION ST, ...|                  9|             Mission|(37.753792709781,...|Voice In|     null|\n",
      "|322549|11/30/2008 08:50:...|01/08/2009 04:54:...|01/08/2009 04:54:...|Closed|        null|RPD Structural Ma...|Rec and Park Requ...|Park - Structural...|            Pavement|Intersection of J...|                  1|    Golden Gate Park|(37.7704957763303...|Voice In|     null|\n",
      "|322548|11/30/2008 08:48:...|12/13/2008 11:07:...|12/13/2008 11:07:...|Closed|        null|       DPW Ops Queue|Graffiti Private ...|Offensive Graffit...|Building_resident...| 599 DOLORES ST, ...|                  8|             Mission|(37.759849324045,...|Voice In|     null|\n",
      "|322547|11/30/2008 08:48:...|07/21/2009 04:24:...|07/21/2009 04:24:...|Closed|        null|      DPW BSSR Queue|      Street Defects|     Pavement_Defect|     Pavement_Defect| 370 15TH AVE, SA...|                  1|      Inner Richmond|(37.781208498, -1...|Voice In|     null|\n",
      "|322545|11/30/2008 08:45:...|02/03/2009 07:09:...|02/03/2009 07:09:...|Closed|        null|       DPW Ops Queue|Street and Sidewa...|   Sidewalk_Cleaning|          Empty_cart|Intersection of 1...|                  8|             Mission|(37.7598935230725...|Voice In|     null|\n",
      "|322544|11/30/2008 08:43:...|07/21/2009 04:24:...|07/21/2009 04:24:...|Closed|        null|       DPW Ops Queue|Street and Sidewa...|     Illegal_Dumping|           Furniture|Intersection of 1...|                  9|             Mission|(37.7617593060454...|Voice In|     null|\n",
      "|322543|11/30/2008 08:43:...|02/03/2009 07:09:...|02/03/2009 07:09:...|Closed|        null|       DPW Ops Queue|Street and Sidewa...|   Sidewalk_Cleaning|             Garbage|Intersection of 1...|                  8|             Mission|(37.7614912395117...|Voice In|     null|\n",
      "|322542|11/30/2008 08:43:...|07/21/2009 04:24:...|07/21/2009 04:24:...|Closed|        null|      DPW BSSR Queue|      Street Defects|     Pavement_Defect|     Pavement_Defect|1444 HAYES ST, SA...|                  5|      Haight Ashbury|(37.774792012, -1...|Voice In|     null|\n",
      "|322541|11/30/2008 08:41:...|12/04/2008 12:07:...|12/04/2008 12:07:...|Closed|        null|       DPW Ops Queue|      Street Defects|     Pavement_Defect|     Pavement_Defect|3216 MISSION ST, ...|                  9|      Bernal Heights|(37.745166174982,...|Voice In|     null|\n",
      "+------+--------------------+--------------------+--------------------+------+------------+--------------------+--------------------+--------------------+--------------------+--------------------+-------------------+--------------------+--------------------+--------+---------+\n",
      "only showing top 20 rows\n",
      "\n"
     ]
    }
   ],
   "source": [
    "# Try to show the data\n",
    "df.show()"
   ]
  },
  {
   "cell_type": "code",
   "execution_count": 48,
   "metadata": {},
   "outputs": [
    {
     "data": {
      "text/plain": [
       "2056515"
      ]
     },
     "execution_count": 48,
     "metadata": {},
     "output_type": "execute_result"
    }
   ],
   "source": [
    "#Menghitung dataset\n",
    "\n",
    "df.count()"
   ]
  },
  {
   "cell_type": "markdown",
   "metadata": {},
   "source": [
    "# Data Mining"
   ]
  },
  {
   "cell_type": "code",
   "execution_count": 49,
   "metadata": {},
   "outputs": [],
   "source": [
    "# Register the DataFrame as a SQL temporary view\n",
    "df.createOrReplaceTempView(\"casedata\")"
   ]
  },
  {
   "cell_type": "code",
   "execution_count": 50,
   "metadata": {},
   "outputs": [],
   "source": [
    "# tes database\n",
    "result = spark.sql(\"SELECT DISTINCT `Responsible Agency` FROM casedata\")"
   ]
  },
  {
   "cell_type": "code",
   "execution_count": 51,
   "metadata": {},
   "outputs": [
    {
     "name": "stdout",
     "output_type": "stream",
     "text": [
      "+--------------------+\n",
      "|  Responsible Agency|\n",
      "+--------------------+\n",
      "|       DPW BUF Queue|\n",
      "|District Attorney...|\n",
      "|PUC - Billing - G...|\n",
      "|HSA - Employment ...|\n",
      "| there are a few ...|\n",
      "| posted; took pho...|\n",
      "|           no answer|\n",
      "|549 VALLEJO ST, S...|\n",
      "|county_clerk - co...|\n",
      "|            19 & 34.|\n",
      "| however it has d...|\n",
      "|  but the tree ap...|\n",
      "|\",DPW BSM Queue,S...|\n",
      "|Intersection of J...|\n",
      "|     DPT - Other - G|\n",
      "|SFMTA - Parking E...|\n",
      "|SFFD Bureau of Fi...|\n",
      "|China Basin Shore...|\n",
      "| the 311 Customer...|\n",
      "|dph - environment...|\n",
      "+--------------------+\n",
      "only showing top 20 rows\n",
      "\n"
     ]
    }
   ],
   "source": [
    "result.show()"
   ]
  },
  {
   "cell_type": "code",
   "execution_count": 77,
   "metadata": {},
   "outputs": [],
   "source": [
    "# Menampilkan data keluhan yang paling sering diterima oleh SF311\n",
    "\n",
    "query1 = spark.sql(\"SELECT Category, `Request Type`, COUNT(Category) FROM casedata \\\n",
    "                    GROUP BY category, `Request Type` ORDER BY Count(Category) DESC\")"
   ]
  },
  {
   "cell_type": "code",
   "execution_count": 78,
   "metadata": {},
   "outputs": [
    {
     "name": "stdout",
     "output_type": "stream",
     "text": [
      "+--------------------+--------------------+---------------+\n",
      "|            Category|        Request Type|count(Category)|\n",
      "+--------------------+--------------------+---------------+\n",
      "|Street and Sidewa...|         Bulky Items|         176288|\n",
      "|Street and Sidewa...|   Sidewalk_Cleaning|         171590|\n",
      "|Street and Sidewa...|    General Cleaning|         168800|\n",
      "|Graffiti Private ...|Not_Offensive Gra...|         108142|\n",
      "|Graffiti Public P...|Offensive Graffit...|         102995|\n",
      "|Graffiti Public P...|Not_Offensive Gra...|          88341|\n",
      "|Street and Sidewa...| Hazardous Materials|          77261|\n",
      "|    Damaged Property|Damaged Parking_M...|          54949|\n",
      "|Street and Sidewa...|     Illegal_Dumping|          44571|\n",
      "|   Abandoned Vehicle|Abandoned Vehicle...|          42342|\n",
      "|Street and Sidewa...|  Illegal Encampment|          39586|\n",
      "|      Street Defects|     Pavement_Defect|          36843|\n",
      "|        Sewer Issues|      Sewage_back_up|          32314|\n",
      "|       SFHA Requests|SFHA Priority - U...|          31781|\n",
      "|        Streetlights|Streetlight - Lig...|          31403|\n",
      "|Graffiti Private ...|Offensive Graffit...|          29268|\n",
      "|   Abandoned Vehicle|Abandoned Vehicle...|          26710|\n",
      "|    Sidewalk or Curb|     Sidewalk_Defect|          20586|\n",
      "|   Abandoned Vehicle|Abandoned Vehicle...|          20183|\n",
      "|       SFHA Requests|SFHA Priority - E...|          18528|\n",
      "+--------------------+--------------------+---------------+\n",
      "only showing top 20 rows\n",
      "\n"
     ]
    }
   ],
   "source": [
    "query1.show()"
   ]
  },
  {
   "cell_type": "code",
   "execution_count": 83,
   "metadata": {},
   "outputs": [],
   "source": [
    "# Menampilkan Agency yang paling sering diturunkan untuk menangani keluhan di SF311\n",
    "\n",
    "query2 = spark.sql(\"SELECT `Responsible Agency`, COUNT(`Responsible Agency`) FROM casedata \\\n",
    "                    GROUP BY `Responsible Agency` ORDER BY Count(`Responsible Agency`) DESC\")"
   ]
  },
  {
   "cell_type": "code",
   "execution_count": 84,
   "metadata": {},
   "outputs": [
    {
     "name": "stdout",
     "output_type": "stream",
     "text": [
      "+--------------------+-------------------------+\n",
      "|  Responsible Agency|count(Responsible Agency)|\n",
      "+--------------------+-------------------------+\n",
      "|       DPW Ops Queue|                   857847|\n",
      "|  Recology_Abandoned|                   204919|\n",
      "|DPT Abandoned Veh...|                   136054|\n",
      "|       DPW BSM Queue|                    89683|\n",
      "|DPT Meter_Bike Queue|                    66635|\n",
      "|       PUC Sewer Ops|                    59162|\n",
      "|     MUNI Work Queue|                    41961|\n",
      "|     311 HA SR Queue|                    36079|\n",
      "|311 Supervisor Queue|                    31551|\n",
      "|      DPW BSSR Queue|                    29427|\n",
      "|Housing Authority...|                    29419|\n",
      "|PG and E - Street...|                    27789|\n",
      "|PUC Streetlights ...|                    23515|\n",
      "|311 Service Reque...|                    20453|\n",
      "|     PUC - Water - G|                    19983|\n",
      "|Clear Channel - T...|                    18863|\n",
      "|Recology_Overflowing|                    14104|\n",
      "|DPT SignShop Surv...|                    12727|\n",
      "|DPW - Bureau of S...|                    12656|\n",
      "|DPT SignShop Surv...|                    12063|\n",
      "+--------------------+-------------------------+\n",
      "only showing top 20 rows\n",
      "\n"
     ]
    }
   ],
   "source": [
    "query2.show()"
   ]
  },
  {
   "cell_type": "code",
   "execution_count": 131,
   "metadata": {},
   "outputs": [],
   "source": [
    "# Menampilkan jumlah keluhan yang belum selesai berdasarkan daerah dan kategori masalahnya\n",
    "\n",
    "query3 = spark.sql(\"SELECT Status, Neighborhood, Category, `Request Type`, COUNT(Status) FROM casedata \\\n",
    "                    WHERE Status='Open' \\\n",
    "                    GROUP BY Status, Neighborhood, Category, `Request Type` ORDER BY Count(Status) DESC\")"
   ]
  },
  {
   "cell_type": "code",
   "execution_count": 132,
   "metadata": {},
   "outputs": [
    {
     "name": "stdout",
     "output_type": "stream",
     "text": [
      "+------+----------------+--------------------+--------------------+-------------+\n",
      "|Status|    Neighborhood|            Category|        Request Type|count(Status)|\n",
      "+------+----------------+--------------------+--------------------+-------------+\n",
      "|  Open|         Mission|Graffiti Private ...|Not_Offensive Gra...|         1964|\n",
      "|  Open| South of Market|Graffiti Private ...|Not_Offensive Gra...|         1510|\n",
      "|  Open|       Sunnydale|       SFHA Requests|SFHA Priority - E...|         1189|\n",
      "|  Open|       Sunnydale|       SFHA Requests|SFHA Priority - R...|          887|\n",
      "|  Open| Pacific Heights|Temporary Sign Re...|Temporary Sign Re...|          884|\n",
      "|  Open|            null|Temporary Sign Re...|Temporary Sign Re...|          861|\n",
      "|  Open|       Chinatown|Graffiti Private ...|Not_Offensive Gra...|          832|\n",
      "|  Open|       Sunnydale|       SFHA Requests|SFHA Priority - U...|          793|\n",
      "|  Open|Western Addition|       SFHA Requests|SFHA Priority - E...|          790|\n",
      "|  Open|    Potrero Hill|       SFHA Requests|SFHA Priority - U...|          788|\n",
      "|  Open|         Mission|Street and Sidewa...|    General Cleaning|          774|\n",
      "|  Open|    Potrero Hill|       SFHA Requests|SFHA Priority - E...|          773|\n",
      "|  Open|    Potrero Hill|       SFHA Requests|SFHA Priority - R...|          758|\n",
      "|  Open|         Mission|Graffiti Public P...|Not_Offensive Gra...|          635|\n",
      "|  Open|        Nob Hill|Temporary Sign Re...|Temporary Sign Re...|          562|\n",
      "|  Open| South of Market|Temporary Sign Re...|Temporary Sign Re...|          533|\n",
      "|  Open|      Bret Harte|       SFHA Requests|SFHA Priority - E...|          524|\n",
      "|  Open|  Inner Richmond|Graffiti Private ...|Not_Offensive Gra...|          477|\n",
      "|  Open|      Bret Harte|       SFHA Requests|SFHA Priority - U...|          456|\n",
      "|  Open|      Tenderloin|Graffiti Private ...|Not_Offensive Gra...|          445|\n",
      "+------+----------------+--------------------+--------------------+-------------+\n",
      "only showing top 20 rows\n",
      "\n"
     ]
    }
   ],
   "source": [
    "query3.show()"
   ]
  },
  {
   "cell_type": "code",
   "execution_count": null,
   "metadata": {},
   "outputs": [],
   "source": []
  }
 ],
 "metadata": {
  "kernelspec": {
   "display_name": "Python 3",
   "language": "python",
   "name": "python3"
  },
  "language_info": {
   "codemirror_mode": {
    "name": "ipython",
    "version": 3
   },
   "file_extension": ".py",
   "mimetype": "text/x-python",
   "name": "python",
   "nbconvert_exporter": "python",
   "pygments_lexer": "ipython3",
   "version": "3.6.5"
  }
 },
 "nbformat": 4,
 "nbformat_minor": 2
}
